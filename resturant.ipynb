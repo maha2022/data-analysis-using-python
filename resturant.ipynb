{
 "cells": [
  {
   "cell_type": "code",
   "execution_count": null,
   "id": "f22c651c",
   "metadata": {},
   "outputs": [
    {
     "name": "stdout",
     "output_type": "stream",
     "text": [
      "enter your usernameatharva\n",
      "enter your passwordganga\n",
      "username:  atharva\n",
      "pass ganga\n",
      "\n"
     ]
    }
   ],
   "source": [
    "def login(name, password ):\n",
    "    print (\"username: \", name)\n",
    "    print (\"pass\", password)\n",
    "    print()\n",
    "    return;\n",
    "\n",
    "def veg():\n",
    "    print(\"welcome to veg restaurant\")\n",
    "    return;\n",
    "\n",
    "def nonveg():\n",
    "    print(\"welcome to non-veg restaurant\")\n",
    "    return;\n",
    "\n",
    "user=input(\"enter your username\")\n",
    "password=input(\"enter your password\")\n",
    "login( user, password)\n",
    "choice=int(input(\"looking for veg or non veg\"))\n",
    "if choice==1:\n",
    "    veg()\n",
    "elif choice==2:\n",
    "    nonveg()\n",
    "else:\n",
    "    print(\"enter either 1 or 2\")"
   ]
  },
  {
   "cell_type": "code",
   "execution_count": null,
   "id": "6507dbd2",
   "metadata": {},
   "outputs": [],
   "source": []
  },
  {
   "cell_type": "code",
   "execution_count": null,
   "id": "be995f4b",
   "metadata": {},
   "outputs": [],
   "source": []
  }
 ],
 "metadata": {
  "kernelspec": {
   "display_name": "Python 3",
   "language": "python",
   "name": "python3"
  },
  "language_info": {
   "codemirror_mode": {
    "name": "ipython",
    "version": 3
   },
   "file_extension": ".py",
   "mimetype": "text/x-python",
   "name": "python",
   "nbconvert_exporter": "python",
   "pygments_lexer": "ipython3",
   "version": "3.6.13"
  }
 },
 "nbformat": 4,
 "nbformat_minor": 5
}
