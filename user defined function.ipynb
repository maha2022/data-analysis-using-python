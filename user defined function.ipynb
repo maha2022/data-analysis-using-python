{
 "cells": [
  {
   "cell_type": "code",
   "execution_count": 1,
   "id": "a1430036",
   "metadata": {},
   "outputs": [
    {
     "name": "stdout",
     "output_type": "stream",
     "text": [
      "1\n",
      "2\n",
      "in function ajith\n",
      "after printing in function definition\n",
      "in function s\n",
      "after printing in function definition\n",
      "3\n"
     ]
    }
   ],
   "source": [
    "def hello (str):\n",
    "    print(\"in function \" + str)\n",
    "    print(\"after printing in function definition\")\n",
    "    return;\n",
    "\n",
    "\n",
    "print(\"1\")\n",
    "print(\"2\")\n",
    "hello(\"ajith\")\n",
    "hello(\"s\")\n",
    "print(\"3\")"
   ]
  },
  {
   "cell_type": "code",
   "execution_count": 2,
   "id": "cd98d458",
   "metadata": {},
   "outputs": [
    {
     "name": "stdout",
     "output_type": "stream",
     "text": [
      "Values inside the function:  [10, 20, 30, [1, 2, 3, 4]]\n",
      "Values outside the function:  [10, 20, 30, [1, 2, 3, 4]]\n"
     ]
    }
   ],
   "source": [
    "def changeme( mylist ):\n",
    "    mylist.append([1,2,3,4]);\n",
    "    print (\"Values inside the function: \", mylist)\n",
    "    return;\n",
    "mylist = [10,20,30];\n",
    "changeme( mylist );\n",
    "print (\"Values outside the function: \", mylist)"
   ]
  },
  {
   "cell_type": "code",
   "execution_count": 3,
   "id": "e2a60f76",
   "metadata": {},
   "outputs": [
    {
     "name": "stdout",
     "output_type": "stream",
     "text": [
      "BEFORE CHANGESValues inside the function:  [10, 20, 30]\n",
      "AFTER CHANGES Values inside the function:  [1, 2, 3, 4]\n",
      "Values outside the function:  [10, 20, 30]\n"
     ]
    }
   ],
   "source": [
    "def changeme( mylist ):\n",
    "    print (\"BEFORE CHANGESValues inside the function: \", mylist)\n",
    "    mylist = [1,2,3,4];\n",
    "    print (\"AFTER CHANGES Values inside the function: \", mylist)\n",
    "    return\n",
    "mylist1 = [10,20,30];\n",
    "changeme( mylist1 );\n",
    "print (\"Values outside the function: \", mylist1)"
   ]
  },
  {
   "cell_type": "code",
   "execution_count": 4,
   "id": "986b2af6",
   "metadata": {},
   "outputs": [
    {
     "name": "stdout",
     "output_type": "stream",
     "text": [
      "ajth\n"
     ]
    }
   ],
   "source": [
    "def printme( str ):\n",
    "    print (str)\n",
    "    return;\n",
    "printme(str = \"ajth\")"
   ]
  },
  {
   "cell_type": "code",
   "execution_count": 5,
   "id": "4782f0bf",
   "metadata": {},
   "outputs": [
    {
     "name": "stdout",
     "output_type": "stream",
     "text": [
      "Name:  vividha\n",
      "Age  50\n"
     ]
    }
   ],
   "source": [
    "def printinfo( name, age ):\n",
    "    print (\"Name: \", name)\n",
    "    print (\"Age \", age)\n",
    "    return;\n",
    "printinfo( age=50, name=\"vividha\" )"
   ]
  },
  {
   "cell_type": "code",
   "execution_count": 6,
   "id": "8af5bd1c",
   "metadata": {},
   "outputs": [
    {
     "name": "stdout",
     "output_type": "stream",
     "text": [
      "Name:  50\n",
      "Age  vivida\n"
     ]
    }
   ],
   "source": [
    "def printinfo( name, age ):\n",
    "    print (\"Name: \", name)\n",
    "    print (\"Age \", age)\n",
    "    return;\n",
    "printinfo( 50, \"vivida\" )"
   ]
  },
  {
   "cell_type": "code",
   "execution_count": 7,
   "id": "9c1edac8",
   "metadata": {},
   "outputs": [
    {
     "name": "stdout",
     "output_type": "stream",
     "text": [
      "Name:  vividha\n",
      "Age  50\n",
      "Name:  vivdha\n",
      "Age  35\n"
     ]
    }
   ],
   "source": [
    "def printinfo( name, age = 35 ):\n",
    "    print (\"Name: \", name)\n",
    "    print (\"Age \", age)\n",
    "    return;\n",
    "printinfo( age=50, name=\"vividha\" )\n",
    "printinfo( name=\"vivdha\" )"
   ]
  },
  {
   "cell_type": "code",
   "execution_count": 9,
   "id": "fe948fc2",
   "metadata": {},
   "outputs": [
    {
     "name": "stdout",
     "output_type": "stream",
     "text": [
      "Output is: \n",
      "arg1== 10\n",
      "78\n",
      "Output is: \n",
      "arg1== 70\n",
      "60\n",
      "50\n",
      "90\n"
     ]
    }
   ],
   "source": [
    "def printinfo( arg1, *vartuple ):\n",
    "    print (\"Output is: \")\n",
    "    print (\"arg1==\",arg1)\n",
    "    for var in vartuple:\n",
    "        print (var)\n",
    "    return;\n",
    "printinfo( 10,78 )\n",
    "printinfo( 70, 60, 50,90 )"
   ]
  },
  {
   "cell_type": "code",
   "execution_count": 10,
   "id": "f52f92ce",
   "metadata": {},
   "outputs": [
    {
     "name": "stdout",
     "output_type": "stream",
     "text": [
      "Value of total :  30\n",
      "Value of total :  40\n"
     ]
    }
   ],
   "source": [
    "sum = lambda arg1, arg2: arg1 + arg2;\n",
    "print (\"Value of total : \", sum( 10, 20 ))\n",
    "print (\"Value of total : \", sum( 20, 20 ))"
   ]
  },
  {
   "cell_type": "code",
   "execution_count": 11,
   "id": "8ad20c73",
   "metadata": {},
   "outputs": [
    {
     "name": "stdout",
     "output_type": "stream",
     "text": [
      "Inside the function :  30\n",
      "Outside the function :  30\n"
     ]
    }
   ],
   "source": [
    "def sum( arg1, arg2 ):\n",
    "    total = arg1 + arg2\n",
    "    print (\"Inside the function : \", total)\n",
    "    return total;\n",
    "total1 = sum( 10, 20 );\n",
    "print (\"Outside the function : \", total1 )"
   ]
  },
  {
   "cell_type": "code",
   "execution_count": 12,
   "id": "382b8425",
   "metadata": {},
   "outputs": [
    {
     "name": "stdout",
     "output_type": "stream",
     "text": [
      "Inside the function local total :  30\n",
      "Outside the function global total :  99\n"
     ]
    }
   ],
   "source": [
    "total = 99;\n",
    "def sum( arg1, arg2 ):\n",
    "    total = arg1 + arg2;\n",
    "    print (\"Inside the function local total : \", total)\n",
    "    return total;\n",
    "sum( 10, 20 );\n",
    "print (\"Outside the function global total : \", total )"
   ]
  },
  {
   "cell_type": "code",
   "execution_count": null,
   "id": "654aa11a",
   "metadata": {},
   "outputs": [],
   "source": []
  }
 ],
 "metadata": {
  "kernelspec": {
   "display_name": "Python 3",
   "language": "python",
   "name": "python3"
  },
  "language_info": {
   "codemirror_mode": {
    "name": "ipython",
    "version": 3
   },
   "file_extension": ".py",
   "mimetype": "text/x-python",
   "name": "python",
   "nbconvert_exporter": "python",
   "pygments_lexer": "ipython3",
   "version": "3.6.13"
  }
 },
 "nbformat": 4,
 "nbformat_minor": 5
}
