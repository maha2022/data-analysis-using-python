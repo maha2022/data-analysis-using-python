{
 "cells": [
  {
   "cell_type": "code",
   "execution_count": 2,
   "id": "87a7f792",
   "metadata": {},
   "outputs": [
    {
     "name": "stdout",
     "output_type": "stream",
     "text": [
      "harish\n",
      "b.tech\n"
     ]
    }
   ],
   "source": [
    "dict={'name':'harish','designation':'cse','qual':'b.tech','university':'cmru'}\n",
    "print(dict['name'])\n",
    "print(dict['qual'])"
   ]
  },
  {
   "cell_type": "code",
   "execution_count": 3,
   "id": "97bfba89",
   "metadata": {},
   "outputs": [
    {
     "name": "stdout",
     "output_type": "stream",
     "text": [
      "jagu\n",
      "cse7sem\n"
     ]
    }
   ],
   "source": [
    "dict={'name':'jagu','designation':'cse','qual':'b.tech','university':'cmru'}\n",
    "dict['name']='jagu'\n",
    "print(dict['name'])\n",
    "dict['class']='cse7sem'\n",
    "print(dict['class'])"
   ]
  },
  {
   "cell_type": "code",
   "execution_count": 4,
   "id": "345f737e",
   "metadata": {},
   "outputs": [
    {
     "name": "stdout",
     "output_type": "stream",
     "text": [
      "karthik\n",
      "4\n"
     ]
    }
   ],
   "source": [
    "dict={'name':'karthik','designation':'cse','qual':'btech','university':'cmru','name':'karthik'}\n",
    "print(dict['name'])\n",
    "print(len(dict))"
   ]
  },
  {
   "cell_type": "code",
   "execution_count": 5,
   "id": "cf9b537f",
   "metadata": {},
   "outputs": [
    {
     "name": "stdout",
     "output_type": "stream",
     "text": [
      "dict_values(['karthik', 'asp', 'phd', 'cmru'])\n",
      "dict_items([('name', 'karthik'), ('designation', 'asp'), ('qual', 'phd'), ('university', 'cmru')])\n",
      "dict_keys(['name', 'designation', 'qual', 'university'])\n"
     ]
    }
   ],
   "source": [
    "dict={'name':'karthik','designation':'asp','qual':'phd','university':'cmru','name':'karthik'}\n",
    "print(dict.values())\n",
    "print(dict.items())\n",
    "print(dict.keys())"
   ]
  },
  {
   "cell_type": "code",
   "execution_count": 6,
   "id": "9fe259c6",
   "metadata": {},
   "outputs": [
    {
     "name": "stdout",
     "output_type": "stream",
     "text": [
      "tinya\n",
      "nthg\n"
     ]
    }
   ],
   "source": [
    "dict={'name':'tinya','designation':'cse','qual':'btech','university':'cmru','name':'tinya'}\n",
    "print(dict['name'])\n",
    "print(dict.get('edu',\"nthg\"))"
   ]
  },
  {
   "cell_type": "code",
   "execution_count": 8,
   "id": "abd510ea",
   "metadata": {},
   "outputs": [
    {
     "name": "stdout",
     "output_type": "stream",
     "text": [
      "{'name': 'imran', 'designation': 'cse', 'qual': 'btech', 'university': 'cmr'}\n",
      "{'edu': 'btech-mtech', 'students': '7sem'}\n",
      "{'name': 'imran', 'designation': 'cse', 'qual': 'btech', 'university': 'cmr', 'edu': 'btech-mtech', 'students': '7sem'}\n"
     ]
    }
   ],
   "source": [
    "dict={'name':'imran','designation':'cse','qual':'btech','university':'cmr','name':'imran'}\n",
    "dict2={'edu':'btech-mtech','students':'7sem'}\n",
    "print(dict)\n",
    "print(dict2)\n",
    "dict.update(dict2)\n",
    "print(dict)"
   ]
  },
  {
   "cell_type": "code",
   "execution_count": null,
   "id": "fa66f878",
   "metadata": {},
   "outputs": [],
   "source": []
  }
 ],
 "metadata": {
  "kernelspec": {
   "display_name": "Python 3",
   "language": "python",
   "name": "python3"
  },
  "language_info": {
   "codemirror_mode": {
    "name": "ipython",
    "version": 3
   },
   "file_extension": ".py",
   "mimetype": "text/x-python",
   "name": "python",
   "nbconvert_exporter": "python",
   "pygments_lexer": "ipython3",
   "version": "3.6.13"
  }
 },
 "nbformat": 4,
 "nbformat_minor": 5
}
