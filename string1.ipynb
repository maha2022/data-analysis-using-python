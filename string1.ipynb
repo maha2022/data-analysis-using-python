{
 "cells": [
  {
   "cell_type": "code",
   "execution_count": 1,
   "id": "cb98b258",
   "metadata": {},
   "outputs": [
    {
     "name": "stdout",
     "output_type": "stream",
     "text": [
      "Hello World!   Python Programming\n"
     ]
    }
   ],
   "source": [
    "var1 = 'Hello World!'\n",
    "var2 = \"Python Programming\"\n",
    "print(var1,\" \",var2)"
   ]
  },
  {
   "cell_type": "code",
   "execution_count": 3,
   "id": "1e513821",
   "metadata": {},
   "outputs": [
    {
     "name": "stdout",
     "output_type": "stream",
     "text": [
      "H\n",
      "\n"
     ]
    }
   ],
   "source": [
    "var1 = 'Hello World!'\n",
    "var2 = \"Python Programming\"\n",
    "print (var1[0])\n",
    "print (var2[1:1])"
   ]
  },
  {
   "cell_type": "code",
   "execution_count": 4,
   "id": "1dedd01c",
   "metadata": {},
   "outputs": [
    {
     "name": "stdout",
     "output_type": "stream",
     "text": [
      "Updated String :-  Hello Atharva\n"
     ]
    }
   ],
   "source": [
    "var1 = 'Hello World!'\n",
    "print (\"Updated String :- \", var1[0:6] + 'Atharva')"
   ]
  },
  {
   "cell_type": "code",
   "execution_count": 5,
   "id": "2e405354",
   "metadata": {},
   "outputs": [
    {
     "name": "stdout",
     "output_type": "stream",
     "text": [
      "Please Enter Your Own String : 43\n",
      "The Final String : Str2 =  43\n",
      "The Final String : Str3 = =  43\n",
      "The Final String : Str4 = =  \n"
     ]
    }
   ],
   "source": [
    "str1 = input(\"Please Enter Your Own String : \")\n",
    "str2 = str1\n",
    "str3 = str1[:]\n",
    "str4 = str1[2:6]\n",
    "print(\"The Final String : Str2 = \", str2)\n",
    "print(\"The Final String : Str3 = = \", str3)\n",
    "print(\"The Final String : Str4 = = \", str4)"
   ]
  },
  {
   "cell_type": "code",
   "execution_count": 6,
   "id": "8f7ae03d",
   "metadata": {},
   "outputs": [
    {
     "name": "stdout",
     "output_type": "stream",
     "text": [
      "str.capitalize() :  This is string example....wow!!!\n"
     ]
    }
   ],
   "source": [
    "str = \"this is string example....wow!!!\";\n",
    "print (\"str.capitalize() : \", str.capitalize())"
   ]
  },
  {
   "cell_type": "code",
   "execution_count": 7,
   "id": "e4565d9b",
   "metadata": {},
   "outputs": [
    {
     "name": "stdout",
     "output_type": "stream",
     "text": [
      "str.count(sub, 4, 40) :  2\n",
      "str.count(sub) :  1\n"
     ]
    }
   ],
   "source": [
    "str = \"this is string example....wow!!!\";\n",
    "sub = \"i\";\n",
    "print (\"str.count(sub, 4, 40) : \", str.count(sub, 4, 40))\n",
    "sub = \"wow\";\n",
    "print (\"str.count(sub) : \", str.count(sub))"
   ]
  },
  {
   "cell_type": "code",
   "execution_count": 8,
   "id": "0d66c96d",
   "metadata": {},
   "outputs": [
    {
     "name": "stdout",
     "output_type": "stream",
     "text": [
      "2\n",
      "-1\n",
      "-1\n"
     ]
    }
   ],
   "source": [
    "str1 = \"this is string example....wow!!!\";\n",
    "str2 = \"is\";\n",
    "print (str1.find(str2))\n",
    "print (str1.find(str2, 10))\n",
    "print (str1.find(str2, 40))"
   ]
  },
  {
   "cell_type": "code",
   "execution_count": null,
   "id": "45521b2e",
   "metadata": {},
   "outputs": [],
   "source": []
  },
  {
   "cell_type": "code",
   "execution_count": null,
   "id": "1b9776e8",
   "metadata": {},
   "outputs": [],
   "source": []
  },
  {
   "cell_type": "code",
   "execution_count": null,
   "id": "643e3d30",
   "metadata": {},
   "outputs": [],
   "source": []
  },
  {
   "cell_type": "code",
   "execution_count": null,
   "id": "6cdde81c",
   "metadata": {},
   "outputs": [],
   "source": []
  },
  {
   "cell_type": "code",
   "execution_count": null,
   "id": "78fc2b09",
   "metadata": {},
   "outputs": [],
   "source": []
  }
 ],
 "metadata": {
  "kernelspec": {
   "display_name": "Python 3",
   "language": "python",
   "name": "python3"
  },
  "language_info": {
   "codemirror_mode": {
    "name": "ipython",
    "version": 3
   },
   "file_extension": ".py",
   "mimetype": "text/x-python",
   "name": "python",
   "nbconvert_exporter": "python",
   "pygments_lexer": "ipython3",
   "version": "3.6.13"
  }
 },
 "nbformat": 4,
 "nbformat_minor": 5
}
