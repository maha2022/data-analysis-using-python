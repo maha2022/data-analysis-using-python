{
 "cells": [
  {
   "cell_type": "code",
   "execution_count": 1,
   "id": "89d106d4",
   "metadata": {},
   "outputs": [
    {
     "name": "stdout",
     "output_type": "stream",
     "text": [
      "ruby is really a great lang, isnt it?\n"
     ]
    }
   ],
   "source": [
    "print (\"ruby is really a great lang,\",\"isnt it?\")"
   ]
  },
  {
   "cell_type": "code",
   "execution_count": 2,
   "id": "099fe389",
   "metadata": {},
   "outputs": [
    {
     "name": "stdout",
     "output_type": "stream",
     "text": [
      "enter your input: hi\n",
      "received input is :  hi\n"
     ]
    }
   ],
   "source": [
    "str = input(\"enter your input: \")\n",
    "print (\"received input is : \",str)"
   ]
  },
  {
   "cell_type": "code",
   "execution_count": 3,
   "id": "9cadb5d6",
   "metadata": {},
   "outputs": [
    {
     "name": "stdout",
     "output_type": "stream",
     "text": [
      "name of the file: foo.txt\n"
     ]
    },
    {
     "data": {
      "text/plain": [
       "<function BufferedWriter.close>"
      ]
     },
     "execution_count": 3,
     "metadata": {},
     "output_type": "execute_result"
    }
   ],
   "source": [
    "fo = open(\"foo.txt\",\"wb\")\n",
    "print (\"name of the file:\", fo.name)\n",
    "fo.close"
   ]
  },
  {
   "cell_type": "code",
   "execution_count": 4,
   "id": "acd2500c",
   "metadata": {},
   "outputs": [
    {
     "name": "stdout",
     "output_type": "stream",
     "text": [
      "see you soon!\n"
     ]
    }
   ],
   "source": [
    "f = open(\"demofile2.txt\", \"a\")\n",
    "f.write(\"see you soon!\")\n",
    "f.close()\n",
    "f = open(\"demofile2.txt\",\"r\")\n",
    "print(f.read())"
   ]
  },
  {
   "cell_type": "code",
   "execution_count": 5,
   "id": "389272dc",
   "metadata": {},
   "outputs": [
    {
     "name": "stdout",
     "output_type": "stream",
     "text": [
      "name of the file: foo.txt\n",
      "closed or not :  False\n",
      "opening mode :  wb\n"
     ]
    }
   ],
   "source": [
    "fo = open(\"foo.txt\",\"wb\")\n",
    "print (\"name of the file:\", fo.name)\n",
    "print (\"closed or not : \",fo.closed)\n",
    "print (\"opening mode : \",fo.mode)"
   ]
  },
  {
   "cell_type": "code",
   "execution_count": 6,
   "id": "5630e07f",
   "metadata": {},
   "outputs": [
    {
     "name": "stdout",
     "output_type": "stream",
     "text": [
      "read string is :  see you so\n",
      "current file position :  10\n",
      "again read string is :  ee you soo\n"
     ]
    }
   ],
   "source": [
    "fo = open(\"demofile2.txt\", \"r+\")\n",
    "str = fo.read(10)\n",
    "print (\"read string is : \",str)\n",
    "\n",
    "position = fo.tell()\n",
    "print (\"current file position : \", position)\n",
    "\n",
    "position = fo.seek(1,0);\n",
    "str = fo.read(10)\n",
    "print(\"again read string is : \",str)\n",
    "fo.close()"
   ]
  },
  {
   "cell_type": "code",
   "execution_count": null,
   "id": "63ea2cac",
   "metadata": {},
   "outputs": [],
   "source": []
  }
 ],
 "metadata": {
  "kernelspec": {
   "display_name": "Python 3",
   "language": "python",
   "name": "python3"
  },
  "language_info": {
   "codemirror_mode": {
    "name": "ipython",
    "version": 3
   },
   "file_extension": ".py",
   "mimetype": "text/x-python",
   "name": "python",
   "nbconvert_exporter": "python",
   "pygments_lexer": "ipython3",
   "version": "3.6.13"
  }
 },
 "nbformat": 4,
 "nbformat_minor": 5
}
