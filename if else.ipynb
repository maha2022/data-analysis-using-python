{
 "cells": [
  {
   "cell_type": "code",
   "execution_count": 1,
   "id": "c69111f9",
   "metadata": {},
   "outputs": [
    {
     "name": "stdout",
     "output_type": "stream",
     "text": [
      "enter the number?2\n",
      "Number is even\n"
     ]
    }
   ],
   "source": [
    "num = int(input(\"enter the number?\"))\n",
    "if num%2 == 0:\n",
    " print(\"Number is even\")\n",
    "else:\n",
    " print(\"bye\")"
   ]
  },
  {
   "cell_type": "code",
   "execution_count": 2,
   "id": "1a90d9e9",
   "metadata": {},
   "outputs": [
    {
     "name": "stdout",
     "output_type": "stream",
     "text": [
      "Enter a- 2\n",
      "Enter b- 3\n",
      "Enter c- 4\n",
      "c is largest\n"
     ]
    }
   ],
   "source": [
    "a = int(input(\"Enter a- \"));\n",
    "b = int(input(\"Enter b- \"));\n",
    "c = int(input(\"Enter c- \"));\n",
    "if a>b and a>c:\n",
    " print(\"a is largest\");\n",
    "if b>c:\n",
    " print(\"b is largest\");\n",
    "else:\n",
    " print(\"c is largest\");"
   ]
  },
  {
   "cell_type": "code",
   "execution_count": 3,
   "id": "d4fb3257",
   "metadata": {},
   "outputs": [
    {
     "name": "stdout",
     "output_type": "stream",
     "text": [
      "Enter your age? 32\n",
      "You are eligible to vote !!\n"
     ]
    }
   ],
   "source": [
    "age = int (input(\"Enter your age? \"))\n",
    "if age>=18:\n",
    " print(\"You are eligible to vote !!\");\n",
    "else:\n",
    " print(\"Sorry! you have to wait !!\"); "
   ]
  },
  {
   "cell_type": "markdown",
   "id": "5f4662a2",
   "metadata": {},
   "source": [
    " "
   ]
  }
 ],
 "metadata": {
  "kernelspec": {
   "display_name": "Python 3",
   "language": "python",
   "name": "python3"
  },
  "language_info": {
   "codemirror_mode": {
    "name": "ipython",
    "version": 3
   },
   "file_extension": ".py",
   "mimetype": "text/x-python",
   "name": "python",
   "nbconvert_exporter": "python",
   "pygments_lexer": "ipython3",
   "version": "3.6.13"
  }
 },
 "nbformat": 4,
 "nbformat_minor": 5
}
