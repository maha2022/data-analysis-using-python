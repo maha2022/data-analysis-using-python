{
 "cells": [
  {
   "cell_type": "code",
   "execution_count": 1,
   "id": "c7ab6b10",
   "metadata": {},
   "outputs": [
    {
     "name": "stdout",
     "output_type": "stream",
     "text": [
      "[array([1]), array([2]), array([3]), array([4])]\n"
     ]
    }
   ],
   "source": [
    "import numpy as np\n",
    "arr = np.array([1,2,3,4])\n",
    "newarr = np.array_split(arr, 4)\n",
    "print(newarr)"
   ]
  },
  {
   "cell_type": "code",
   "execution_count": 2,
   "id": "2df6ec9b",
   "metadata": {},
   "outputs": [
    {
     "name": "stdout",
     "output_type": "stream",
     "text": [
      "[1]\n",
      "[5]\n",
      "[3]\n"
     ]
    }
   ],
   "source": [
    "import numpy as np\n",
    "arr = np.array([1,5,3,5])\n",
    "newarr = np.array_split(arr , 4)\n",
    "print(newarr[0])\n",
    "print(newarr[1])\n",
    "print(newarr[2])"
   ]
  },
  {
   "cell_type": "code",
   "execution_count": 3,
   "id": "87b52eb3",
   "metadata": {},
   "outputs": [
    {
     "name": "stdout",
     "output_type": "stream",
     "text": [
      "\n",
      "\n",
      "[1]\n",
      "\n",
      "\n",
      "[5]\n",
      "\n",
      "\n",
      "[3]\n"
     ]
    }
   ],
   "source": [
    "import numpy as np\n",
    "arr = np.array([[1,4],[4,6],[4,6],[5,6]])\n",
    "print(\"\\n\")\n",
    "print(newarr[0])\n",
    "print(\"\\n\")\n",
    "print(newarr[1])\n",
    "print(\"\\n\")\n",
    "print(newarr[2])"
   ]
  },
  {
   "cell_type": "code",
   "execution_count": 4,
   "id": "f3594390",
   "metadata": {},
   "outputs": [
    {
     "name": "stdout",
     "output_type": "stream",
     "text": [
      "\n",
      "\n",
      "[[1 4 5]]\n",
      "\n",
      "\n",
      "[[4 6 6]]\n",
      "\n",
      "\n",
      "[[4 6 7]]\n"
     ]
    }
   ],
   "source": [
    "import numpy as np\n",
    "arr = np.array([[1,4,5],[4,6,6],[4,6,7],[5,6,6]])\n",
    "newarr = np.array_split(arr,4)\n",
    "print(\"\\n\")\n",
    "print(newarr[0])\n",
    "print(\"\\n\")\n",
    "print(newarr[1])\n",
    "print(\"\\n\")\n",
    "print(newarr[2])"
   ]
  },
  {
   "cell_type": "code",
   "execution_count": 5,
   "id": "1fc64b65",
   "metadata": {},
   "outputs": [
    {
     "name": "stdout",
     "output_type": "stream",
     "text": [
      "\n",
      "\n",
      "[[1]\n",
      " [4]\n",
      " [4]\n",
      " [5]]\n",
      "\n",
      "\n",
      "[[4]\n",
      " [6]\n",
      " [6]\n",
      " [6]]\n",
      "\n",
      "\n",
      "[[5]\n",
      " [6]\n",
      " [7]\n",
      " [6]]\n"
     ]
    }
   ],
   "source": [
    "import numpy as np\n",
    "arr = np.array([[1,4,5],[4,6,6],[4,6,7],[5,6,6]])\n",
    "newarr = np.array_split(arr,4, axis=1)\n",
    "print(\"\\n\")\n",
    "print(newarr[0])\n",
    "print(\"\\n\")\n",
    "print(newarr[1])\n",
    "print(\"\\n\")\n",
    "print(newarr[2])"
   ]
  },
  {
   "cell_type": "code",
   "execution_count": 6,
   "id": "d6ca5b61",
   "metadata": {},
   "outputs": [
    {
     "name": "stdout",
     "output_type": "stream",
     "text": [
      "\n",
      "\n",
      "[[1 4 5]]\n",
      "\n",
      "\n",
      "[[4 6 6]]\n",
      "\n",
      "\n",
      "[[4 6 7]]\n"
     ]
    }
   ],
   "source": [
    "import numpy as np\n",
    "arr = np.array([[1,4,5],[4,6,6],[4,6,7],[5,6,6]])\n",
    "newarr = np.vsplit(arr,4)\n",
    "print(\"\\n\")\n",
    "print(newarr[0])\n",
    "print(\"\\n\")\n",
    "print(newarr[1])\n",
    "print(\"\\n\")\n",
    "print(newarr[2])"
   ]
  },
  {
   "cell_type": "code",
   "execution_count": null,
   "id": "c3e1cc86",
   "metadata": {},
   "outputs": [],
   "source": []
  }
 ],
 "metadata": {
  "kernelspec": {
   "display_name": "Python 3",
   "language": "python",
   "name": "python3"
  },
  "language_info": {
   "codemirror_mode": {
    "name": "ipython",
    "version": 3
   },
   "file_extension": ".py",
   "mimetype": "text/x-python",
   "name": "python",
   "nbconvert_exporter": "python",
   "pygments_lexer": "ipython3",
   "version": "3.6.13"
  }
 },
 "nbformat": 4,
 "nbformat_minor": 5
}
