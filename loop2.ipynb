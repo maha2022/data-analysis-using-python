{
 "cells": [
  {
   "cell_type": "code",
   "execution_count": 2,
   "id": "ce862bce",
   "metadata": {},
   "outputs": [
    {
     "name": "stdout",
     "output_type": "stream",
     "text": [
      "Current Letter : N\n",
      "Current Letter : i\n",
      "Current Letter : s\n",
      "Current Letter : h\n",
      "Current Letter : a\n"
     ]
    }
   ],
   "source": [
    "i = 0\n",
    "str1 = 'Nisha'\n",
    "while i < len(str1):\n",
    "    if str1[i] == 'n':\n",
    "        i += 1\n",
    "        break\n",
    "    print('Current Letter :', str1[i])\n",
    "    i += 1 "
   ]
  },
  {
   "cell_type": "code",
   "execution_count": 3,
   "id": "434a83ea",
   "metadata": {},
   "outputs": [
    {
     "name": "stdout",
     "output_type": "stream",
     "text": [
      "Value of i : 5\n"
     ]
    }
   ],
   "source": [
    "str1 = 'Nisha'\n",
    "i = 0\n",
    "\n",
    "while i < len(str1):\n",
    "    i += 1\n",
    "    pass\n",
    "print('Value of i :', i) "
   ]
  },
  {
   "cell_type": "code",
   "execution_count": 4,
   "id": "9c0e6721",
   "metadata": {},
   "outputs": [
    {
     "name": "stdout",
     "output_type": "stream",
     "text": [
      "1\n",
      "2\n",
      "3\n",
      "4\n",
      "5\n"
     ]
    }
   ],
   "source": [
    "i=1\n",
    "while(i<=5):\n",
    "    print(i)\n",
    "    i=i+1 "
   ]
  },
  {
   "cell_type": "code",
   "execution_count": 5,
   "id": "b5d4f18d",
   "metadata": {},
   "outputs": [
    {
     "name": "stdout",
     "output_type": "stream",
     "text": [
      "Enter the number:1\n",
      "1 X 1 = 1 \n",
      "\n",
      "1 X 2 = 2 \n",
      "\n",
      "1 X 3 = 3 \n",
      "\n",
      "1 X 4 = 4 \n",
      "\n",
      "1 X 5 = 5 \n",
      "\n",
      "1 X 6 = 6 \n",
      "\n",
      "1 X 7 = 7 \n",
      "\n",
      "1 X 8 = 8 \n",
      "\n",
      "1 X 9 = 9 \n",
      "\n",
      "1 X 10 = 10 \n",
      "\n"
     ]
    }
   ],
   "source": [
    "i=1\n",
    "number = int(input(\"Enter the number:\"))\n",
    "while i<=10:\n",
    "    print(\"%d X %d = %d \\n\"%(number,i,number*i))\n",
    "    i = i+1"
   ]
  },
  {
   "cell_type": "code",
   "execution_count": 6,
   "id": "540affff",
   "metadata": {},
   "outputs": [
    {
     "name": "stdout",
     "output_type": "stream",
     "text": [
      "1\n",
      "2\n",
      "3\n",
      "4\n",
      "5\n",
      "The while loop exhausted\n"
     ]
    }
   ],
   "source": [
    "i=1\n",
    "while(i<=5):\n",
    "    print(i)\n",
    "    i=i+1\n",
    "else:\n",
    "    print(\"The while loop exhausted\")"
   ]
  },
  {
   "cell_type": "code",
   "execution_count": 8,
   "id": "06c2c613",
   "metadata": {},
   "outputs": [
    {
     "name": "stdout",
     "output_type": "stream",
     "text": [
      "1\n",
      "2\n",
      "bye bye\n"
     ]
    }
   ],
   "source": [
    "i=1\n",
    "while(i<=5):\n",
    "    print(i)\n",
    "    i=i+1\n",
    "    if(i==3):\n",
    "        break\n",
    "else:\n",
    "    print(\"The while loop exhausted\")\n",
    "print(\"bye bye\")"
   ]
  },
  {
   "cell_type": "code",
   "execution_count": 9,
   "id": "6a00721f",
   "metadata": {},
   "outputs": [
    {
     "name": "stdout",
     "output_type": "stream",
     "text": [
      "item matched\n",
      "found at 2 location\n"
     ]
    }
   ],
   "source": [
    "list =[1,2,3,4]\n",
    "i=1;\n",
    "count = 1;\n",
    "for i in list:\n",
    "    if i == 4:\n",
    "        print(\"item matched\")\n",
    "        count = count + 1;\n",
    "        break\n",
    "print(\"found at\",count,\"location\"); "
   ]
  },
  {
   "cell_type": "code",
   "execution_count": 11,
   "id": "e8d86aa3",
   "metadata": {},
   "outputs": [
    {
     "name": "stdout",
     "output_type": "stream",
     "text": [
      "N\n",
      "i\n",
      "s\n",
      "h\n",
      "a\n"
     ]
    }
   ],
   "source": [
    "str = \"Nisha\"\n",
    "for i in str:\n",
    "    if i == 't':\n",
    "        break\n",
    "    print(i); "
   ]
  },
  {
   "cell_type": "code",
   "execution_count": 12,
   "id": "6b2c2117",
   "metadata": {},
   "outputs": [
    {
     "name": "stdout",
     "output_type": "stream",
     "text": [
      "1\n",
      "2\n",
      "3\n",
      "4\n",
      "6\n",
      "7\n",
      "8\n",
      "9\n",
      "10\n"
     ]
    }
   ],
   "source": [
    "i = 0\n",
    "while(i < 10):\n",
    "    i = i+1\n",
    "    if(i == 5):\n",
    "        continue\n",
    "    print(i) "
   ]
  },
  {
   "cell_type": "code",
   "execution_count": 14,
   "id": "77e99477",
   "metadata": {},
   "outputs": [
    {
     "name": "stdout",
     "output_type": "stream",
     "text": [
      "N\n",
      "i\n",
      "s\n",
      "h\n",
      "a\n"
     ]
    }
   ],
   "source": [
    "str = \"Nisha\"\n",
    "for i in str:\n",
    "    if(i == 'n'):\n",
    "        continue\n",
    "    print(i) "
   ]
  },
  {
   "cell_type": "code",
   "execution_count": 16,
   "id": "926c466e",
   "metadata": {},
   "outputs": [
    {
     "name": "stdout",
     "output_type": "stream",
     "text": [
      "Current element: 1 \n",
      "We are inside pass block\n",
      "\n",
      "Current element: 2 \n",
      "We are inside pass block\n",
      "\n",
      "Current element: 3 \n",
      "We are inside pass block\n",
      "\n",
      "Current element: 4 \n",
      "We are inside pass block\n",
      "\n",
      "Current element: 5 \n",
      "We are inside pass block\n",
      "\n",
      "\n",
      "Came out of pass\n",
      "\n"
     ]
    }
   ],
   "source": [
    "list = [1,2,3,4,5]\n",
    "flag = 0\n",
    "for i in list:\n",
    "    print(\"Current element:\",i,end=\" \");\n",
    "    if i==3:\n",
    "        pass\n",
    "    print(\"\\nWe are inside pass block\\n\");\n",
    "    flag = 1\n",
    "if flag==1:\n",
    "    print(\"\\nCame out of pass\\n\");\n",
    "    flag=0 "
   ]
  },
  {
   "cell_type": "code",
   "execution_count": 17,
   "id": "c0aea75b",
   "metadata": {},
   "outputs": [],
   "source": [
    "values = {'P', 'y', 't', 'h','o','n'}\n",
    "for val in values:\n",
    "    pass"
   ]
  },
  {
   "cell_type": "code",
   "execution_count": 18,
   "id": "16051403",
   "metadata": {},
   "outputs": [
    {
     "name": "stdout",
     "output_type": "stream",
     "text": [
      "1\n",
      "2\n",
      "3\n",
      "This is pass block 4\n",
      "4\n",
      "5\n"
     ]
    }
   ],
   "source": [
    "for i in [1,2,3,4,5]:\n",
    "    if(i==4):\n",
    "        pass\n",
    "        print(\"This is pass block\",i)\n",
    "    print(i) "
   ]
  },
  {
   "cell_type": "code",
   "execution_count": null,
   "id": "943aab66",
   "metadata": {},
   "outputs": [],
   "source": []
  }
 ],
 "metadata": {
  "kernelspec": {
   "display_name": "Python 3",
   "language": "python",
   "name": "python3"
  },
  "language_info": {
   "codemirror_mode": {
    "name": "ipython",
    "version": 3
   },
   "file_extension": ".py",
   "mimetype": "text/x-python",
   "name": "python",
   "nbconvert_exporter": "python",
   "pygments_lexer": "ipython3",
   "version": "3.6.13"
  }
 },
 "nbformat": 4,
 "nbformat_minor": 5
}
