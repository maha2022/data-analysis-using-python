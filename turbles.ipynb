{
 "cells": [
  {
   "cell_type": "code",
   "execution_count": 1,
   "id": "2f8f633c",
   "metadata": {},
   "outputs": [
    {
     "name": "stdout",
     "output_type": "stream",
     "text": [
      "('cse', 'it', 'mech')\n",
      "(1, 2, 3, 4)\n",
      "('mno', 'qrs')\n"
     ]
    }
   ],
   "source": [
    "tup= ('cse','it','mech')\n",
    "print(tup)\n",
    "tup1=(1,2,3,4)\n",
    "print(tup1)\n",
    "tup2=\"mno\",\"qrs\"\n",
    "print(tup2)"
   ]
  },
  {
   "cell_type": "code",
   "execution_count": 2,
   "id": "9069e5f5",
   "metadata": {},
   "outputs": [
    {
     "name": "stdout",
     "output_type": "stream",
     "text": [
      "()\n"
     ]
    }
   ],
   "source": [
    "tup2 = ()\n",
    "print(tup2)"
   ]
  },
  {
   "cell_type": "code",
   "execution_count": 3,
   "id": "650ec5f8",
   "metadata": {},
   "outputs": [
    {
     "name": "stdout",
     "output_type": "stream",
     "text": [
      "50\n"
     ]
    }
   ],
   "source": [
    "tup2 = (50)\n",
    "print(tup2)"
   ]
  },
  {
   "cell_type": "code",
   "execution_count": 4,
   "id": "0054d559",
   "metadata": {},
   "outputs": [
    {
     "name": "stdout",
     "output_type": "stream",
     "text": [
      "cse\n",
      "ece\n",
      "('it', 'mech', 'ece')\n"
     ]
    }
   ],
   "source": [
    "tup= ('cse','it','mech','ece')\n",
    "print(tup[0])\n",
    "print(tup[3])\n",
    "print(tup[1:4])"
   ]
  },
  {
   "cell_type": "code",
   "execution_count": 5,
   "id": "ff8743de",
   "metadata": {},
   "outputs": [
    {
     "name": "stdout",
     "output_type": "stream",
     "text": [
      "('cse', 'it', 'mech', 'ece')\n",
      "('nisha', 'raw')\n",
      "('cse', 'it', 'mech', 'ece', 'nisha', 'raw')\n"
     ]
    }
   ],
   "source": [
    "tup1= ('cse','it','mech','ece')\n",
    "print(tup1)\n",
    "tup2= ('nisha','raw')\n",
    "print(tup2)\n",
    "tup3=tup1+tup2\n",
    "print(tup3)"
   ]
  },
  {
   "cell_type": "code",
   "execution_count": 6,
   "id": "ff53a183",
   "metadata": {},
   "outputs": [
    {
     "name": "stdout",
     "output_type": "stream",
     "text": [
      "('cse', 'it', 'mech')\n",
      "('nisha', 'jagu')\n",
      "3\n",
      "2\n",
      "3\n"
     ]
    }
   ],
   "source": [
    "tup1= ('cse','it','mech')\n",
    "print(tup1)\n",
    "tup2= ('nisha','jagu')\n",
    "print(tup2)\n",
    "a=len(tup1)\n",
    "b=len(tup2)\n",
    "print(a)\n",
    "print(b)\n",
    "print(len(tup1))"
   ]
  },
  {
   "cell_type": "code",
   "execution_count": 7,
   "id": "d4df5613",
   "metadata": {},
   "outputs": [
    {
     "name": "stdout",
     "output_type": "stream",
     "text": [
      "('cse', 'it', 'mech')\n",
      "('jagu', 'karthik')\n",
      "mech\n"
     ]
    }
   ],
   "source": [
    "tup1= ('cse','it','mech')\n",
    "print(tup1)\n",
    "tup2= ('jagu','karthik')\n",
    "print(tup2)\n",
    "print(max(tup1))"
   ]
  },
  {
   "cell_type": "code",
   "execution_count": null,
   "id": "911814cb",
   "metadata": {},
   "outputs": [],
   "source": []
  }
 ],
 "metadata": {
  "kernelspec": {
   "display_name": "Python 3",
   "language": "python",
   "name": "python3"
  },
  "language_info": {
   "codemirror_mode": {
    "name": "ipython",
    "version": 3
   },
   "file_extension": ".py",
   "mimetype": "text/x-python",
   "name": "python",
   "nbconvert_exporter": "python",
   "pygments_lexer": "ipython3",
   "version": "3.6.13"
  }
 },
 "nbformat": 4,
 "nbformat_minor": 5
}
