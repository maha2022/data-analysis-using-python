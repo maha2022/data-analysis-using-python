{
 "cells": [
  {
   "cell_type": "code",
   "execution_count": 1,
   "id": "341f4fb1",
   "metadata": {},
   "outputs": [
    {
     "name": "stdout",
     "output_type": "stream",
     "text": [
      "a\n",
      "t\n",
      "h\n",
      "a\n",
      "r\n",
      "v\n",
      "a\n"
     ]
    }
   ],
   "source": [
    "str = \"atharva\"\n",
    "for i in str:\n",
    " print(i)"
   ]
  },
  {
   "cell_type": "code",
   "execution_count": 2,
   "id": "573afb15",
   "metadata": {},
   "outputs": [
    {
     "name": "stdout",
     "output_type": "stream",
     "text": [
      "1  * 1  = 1\n",
      "1  * 2  = 2\n",
      "1  * 3  = 3\n",
      "1  * 4  = 4\n",
      "1  * 5  = 5\n",
      "1  * 6  = 6\n",
      "1  * 7  = 7\n",
      "1  * 8  = 8\n",
      "1  * 9  = 9\n",
      "1  * 10  = 10\n"
     ]
    }
   ],
   "source": [
    "list = [1,2,3,4,5,6,7,8,9,10]\n",
    "n = 1\n",
    "for i in list:\n",
    " c = n*i\n",
    " print(n,\" *\",i, \" =\", c)"
   ]
  },
  {
   "cell_type": "code",
   "execution_count": 3,
   "id": "207528f7",
   "metadata": {},
   "outputs": [
    {
     "name": "stdout",
     "output_type": "stream",
     "text": [
      "The sum is: 10\n",
      "The sum is: 40\n",
      "The sum is: 63\n",
      "The sum is: 106\n",
      "The sum is: 171\n",
      "The sum is: 183\n"
     ]
    }
   ],
   "source": [
    "list = [10,30,23,43,65,12]\n",
    "sum = 0\n",
    "for i in list:\n",
    "    sum = sum+i\n",
    "    print(\"The sum is:\",sum) "
   ]
  },
  {
   "cell_type": "code",
   "execution_count": 4,
   "id": "148e5abb",
   "metadata": {},
   "outputs": [
    {
     "name": "stdout",
     "output_type": "stream",
     "text": [
      "0 1 2 3 4 5 6 7 8 9 10 11 12 13 "
     ]
    }
   ],
   "source": [
    "for i in range(14):\n",
    "    print(i,end=' ') "
   ]
  },
  {
   "cell_type": "code",
   "execution_count": 5,
   "id": "2f790f06",
   "metadata": {},
   "outputs": [
    {
     "name": "stdout",
     "output_type": "stream",
     "text": [
      "Enter the number 34\n",
      "34 * 1 = 34\n",
      "34 * 2 = 68\n",
      "34 * 3 = 102\n",
      "34 * 4 = 136\n",
      "34 * 5 = 170\n",
      "34 * 6 = 204\n",
      "34 * 7 = 238\n",
      "34 * 8 = 272\n",
      "34 * 9 = 306\n",
      "34 * 10 = 340\n"
     ]
    }
   ],
   "source": [
    "n = int(input(\"Enter the number \"))\n",
    "for i in range(1,11):\n",
    " c = n*i\n",
    " print(n,\"*\",i,\"=\",c)"
   ]
  },
  {
   "cell_type": "code",
   "execution_count": 6,
   "id": "3a7b7a72",
   "metadata": {},
   "outputs": [
    {
     "name": "stdout",
     "output_type": "stream",
     "text": [
      "Enter the number 2\n"
     ]
    }
   ],
   "source": [
    "n = int(input(\"Enter the number \"))\n",
    "for i in range(2,n,2):\n",
    "    print(i) "
   ]
  },
  {
   "cell_type": "code",
   "execution_count": 7,
   "id": "2f68438b",
   "metadata": {},
   "outputs": [
    {
     "name": "stdout",
     "output_type": "stream",
     "text": [
      "Hello nisha\n",
      "Hello Shalini\n",
      "Hello isha\n",
      "Hello hema\n"
     ]
    }
   ],
   "source": [
    "list = ['nisha','Shalini','isha','hema']\n",
    "for i in range(len(list)):\n",
    "    print(\"Hello\",list[i]) "
   ]
  },
  {
   "cell_type": "code",
   "execution_count": 8,
   "id": "4484dbd3",
   "metadata": {},
   "outputs": [
    {
     "name": "stdout",
     "output_type": "stream",
     "text": [
      "0\n",
      "1\n",
      "2\n",
      "3\n",
      "4\n",
      "5\n",
      "6\n",
      "for loop completely exhausted, since there is no break.\n"
     ]
    }
   ],
   "source": [
    "for i in range(0,7):\n",
    "    print(i)\n",
    "else:\n",
    "    print(\"for loop completely exhausted, since there is no break.\") "
   ]
  },
  {
   "cell_type": "code",
   "execution_count": 10,
   "id": "2c1fd951",
   "metadata": {},
   "outputs": [
    {
     "name": "stdout",
     "output_type": "stream",
     "text": [
      "0\n",
      "bye\n",
      "1\n",
      "bye\n",
      "2\n",
      "bye\n",
      "3\n",
      "bye\n",
      "4\n",
      "bye\n",
      "5\n",
      "bye\n",
      "6\n",
      "bye\n",
      "for loop is exhausted\n",
      "The loop is broken due to break statement...came out of the loop\n"
     ]
    }
   ],
   "source": [
    "for i in range(0,7):\n",
    "    print(i)\n",
    "    print(\"bye\")\n",
    "    continue;\n",
    "    print(\"hello\")\n",
    "else:print(\"for loop is exhausted\");\n",
    "print(\"The loop is broken due to break statement...came out of the loop\") "
   ]
  },
  {
   "cell_type": "code",
   "execution_count": 12,
   "id": "d7d9c124",
   "metadata": {},
   "outputs": [
    {
     "name": "stdout",
     "output_type": "stream",
     "text": [
      "atharva\n",
      "entered while loop before if statement\n",
      "entered if statement\n",
      "i incremented\n",
      "entered while loop before if statement\n",
      "i incremented\n",
      "entered while loop before if statement\n",
      "i incremented\n",
      "entered while loop before if statement\n",
      "entered if statement\n",
      "i incremented\n",
      "entered while loop before if statement\n",
      "i incremented\n",
      "entered while loop before if statement\n",
      "i incremented\n",
      "entered while loop before if statement\n",
      "entered if statement\n",
      "i incremented\n"
     ]
    }
   ],
   "source": [
    "i = 0\n",
    "str1 = 'atharva'\n",
    "print(str1)\n",
    "while i < len(str1):\n",
    "    print('entered while loop before if statement')\n",
    "    if str1[i] == 'a' or str1[i] == 'u':\n",
    "        print('entered if statement')\n",
    "    i += 1\n",
    "    print('i incremented')\n",
    "    continue\n",
    "    print('after continue')\n",
    "    print('Current Letter :', str1[i])\n",
    "    i += 1\n",
    "    print('going back to starting of while loop')"
   ]
  },
  {
   "cell_type": "code",
   "execution_count": 16,
   "id": "1a9c36fe",
   "metadata": {},
   "outputs": [],
   "source": []
  },
  {
   "cell_type": "code",
   "execution_count": null,
   "id": "73c0f770",
   "metadata": {},
   "outputs": [],
   "source": []
  },
  {
   "cell_type": "code",
   "execution_count": 17,
   "id": "59101c8f",
   "metadata": {},
   "outputs": [],
   "source": []
  },
  {
   "cell_type": "code",
   "execution_count": null,
   "id": "13a48dfd",
   "metadata": {},
   "outputs": [],
   "source": []
  }
 ],
 "metadata": {
  "kernelspec": {
   "display_name": "Python 3",
   "language": "python",
   "name": "python3"
  },
  "language_info": {
   "codemirror_mode": {
    "name": "ipython",
    "version": 3
   },
   "file_extension": ".py",
   "mimetype": "text/x-python",
   "name": "python",
   "nbconvert_exporter": "python",
   "pygments_lexer": "ipython3",
   "version": "3.6.13"
  }
 },
 "nbformat": 4,
 "nbformat_minor": 5
}
