{
 "cells": [
  {
   "cell_type": "code",
   "execution_count": 1,
   "id": "a15b1baf",
   "metadata": {},
   "outputs": [
    {
     "name": "stdout",
     "output_type": "stream",
     "text": [
      "[1 2 3 4 5 6]\n"
     ]
    }
   ],
   "source": [
    "import numpy as np\n",
    "arr1 = np.array([1, 2, 3])\n",
    "arr2 = np.array([4,5,6])\n",
    "arr = np.concatenate((arr1, arr2))\n",
    "print(arr)"
   ]
  },
  {
   "cell_type": "code",
   "execution_count": 2,
   "id": "3dc91d2b",
   "metadata": {},
   "outputs": [
    {
     "name": "stdout",
     "output_type": "stream",
     "text": [
      "arr1= [[2 3]\n",
      " [4 5]]\n",
      "arr2= [[5 6]\n",
      " [7 8]]\n",
      "after coccatenation = \n",
      "[[2 3 5 6]\n",
      " [4 5 7 8]]\n"
     ]
    }
   ],
   "source": [
    "import numpy as np\n",
    "arr1 = np.array([[2,3], [4,5]])\n",
    "print(\"arr1=\", arr1)\n",
    "arr2 = np.array([[5,6], [7,8]])\n",
    "print(\"arr2=\",arr2)\n",
    "print(\"after coccatenation = \")\n",
    "arr = np.concatenate((arr1, arr2), axis=1)\n",
    "print(arr)"
   ]
  },
  {
   "cell_type": "code",
   "execution_count": 3,
   "id": "42183511",
   "metadata": {},
   "outputs": [
    {
     "name": "stdout",
     "output_type": "stream",
     "text": [
      "arr1= [[1 2]\n",
      " [3 4]]\n",
      "arr2= [[5 6]\n",
      " [6 4]]\n",
      "after concatenation = \n",
      "[[1 2]\n",
      " [3 4]\n",
      " [5 6]\n",
      " [6 4]]\n"
     ]
    }
   ],
   "source": [
    "import numpy as np\n",
    "arr1 = np.array([[1,2],[3,4]])\n",
    "print(\"arr1=\", arr1)\n",
    "arr2 = np.array([[5,6],[6,4]])\n",
    "print(\"arr2=\", arr2)\n",
    "print(\"after concatenation = \")\n",
    "arr = np.concatenate((arr1,arr2),axis=0)\n",
    "print(arr)"
   ]
  },
  {
   "cell_type": "code",
   "execution_count": 4,
   "id": "006213f7",
   "metadata": {},
   "outputs": [
    {
     "name": "stdout",
     "output_type": "stream",
     "text": [
      "[1 2 3 4 5 6]\n"
     ]
    }
   ],
   "source": [
    "import numpy as np\n",
    "arr1 = np.array([1,2,3])\n",
    "arr2 = np.array([4,5,6])\n",
    "arr = np.hstack((arr1, arr2))\n",
    "print(arr)"
   ]
  },
  {
   "cell_type": "code",
   "execution_count": 5,
   "id": "d3279a5c",
   "metadata": {},
   "outputs": [
    {
     "name": "stdout",
     "output_type": "stream",
     "text": [
      "hstack = [1 2 3 4 6 5]\n",
      "vstack = [[1 2 3]\n",
      " [4 6 5]]\n",
      "hstack = [[1 4]\n",
      " [2 5]\n",
      " [3 6]]\n",
      "vstack = [[1]\n",
      " [2]\n",
      " [3]\n",
      " [4]\n",
      " [5]\n",
      " [6]]\n"
     ]
    }
   ],
   "source": [
    "a = np.array([1,2,3])\n",
    "b = np.array([4,6,5])\n",
    "print(\"hstack =\", np.hstack((a,b)))\n",
    "print(\"vstack =\", np.vstack((a,b)))\n",
    "a = np.array([[1],[2],[3]])\n",
    "b = np.array([[4],[5],[6]])\n",
    "print(\"hstack =\",np.hstack((a,b)))\n",
    "print(\"vstack =\",np.vstack((a,b)))"
   ]
  },
  {
   "cell_type": "code",
   "execution_count": null,
   "id": "89178d56",
   "metadata": {},
   "outputs": [],
   "source": []
  }
 ],
 "metadata": {
  "kernelspec": {
   "display_name": "Python 3",
   "language": "python",
   "name": "python3"
  },
  "language_info": {
   "codemirror_mode": {
    "name": "ipython",
    "version": 3
   },
   "file_extension": ".py",
   "mimetype": "text/x-python",
   "name": "python",
   "nbconvert_exporter": "python",
   "pygments_lexer": "ipython3",
   "version": "3.6.13"
  }
 },
 "nbformat": 4,
 "nbformat_minor": 5
}
