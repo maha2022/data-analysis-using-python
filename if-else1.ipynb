{
 "cells": [
  {
   "cell_type": "code",
   "execution_count": 1,
   "id": "1e0ba7da",
   "metadata": {},
   "outputs": [
    {
     "name": "stdout",
     "output_type": "stream",
     "text": [
      "enter the number?2\n",
      "Number is even\n"
     ]
    }
   ],
   "source": [
    "num = int(input(\"enter the number?\"))\n",
    "if num%2 == 0:\n",
    " print(\"Number is even\")\n",
    "else:\n",
    " print(\"bye\")"
   ]
  },
  {
   "cell_type": "code",
   "execution_count": 2,
   "id": "e557176c",
   "metadata": {},
   "outputs": [
    {
     "name": "stdout",
     "output_type": "stream",
     "text": [
      "Enter a- 2\n",
      "Enter b- 3\n",
      "Enter c- 4\n",
      "c is largest\n"
     ]
    }
   ],
   "source": [
    "a = int(input(\"Enter a- \"));\n",
    "b = int(input(\"Enter b- \"));\n",
    "c = int(input(\"Enter c- \"));\n",
    "if a>b and a>c:\n",
    " print(\"a is largest\");\n",
    "if b>c:\n",
    " print(\"b is largest\");\n",
    "else:\n",
    " print(\"c is largest\");"
   ]
  },
  {
   "cell_type": "code",
   "execution_count": 3,
   "id": "0198801a",
   "metadata": {},
   "outputs": [
    {
     "name": "stdout",
     "output_type": "stream",
     "text": [
      "Enter your age? 32\n",
      "You are eligible to vote !!\n"
     ]
    }
   ],
   "source": [
    "age = int (input(\"Enter your age? \"))\n",
    "if age>=18:\n",
    " print(\"You are eligible to vote !!\");\n",
    "else:\n",
    " print(\"Sorry! you have to wait !!\"); "
   ]
  },
  {
   "cell_type": "markdown",
   "id": "5c6b5817",
   "metadata": {},
   "source": [
    " num = int(input(\"enter the number?\"))\n",
    "if num%2 == 0:\n",
    " print(\"Number is even...\")\n",
    "else:\n",
    " print(\"Number is odd...\")"
   ]
  },
  {
   "cell_type": "code",
   "execution_count": 1,
   "id": "31cfacd2",
   "metadata": {},
   "outputs": [
    {
     "name": "stdout",
     "output_type": "stream",
     "text": [
      "enter the number?3\n",
      "Number is odd...\n"
     ]
    }
   ],
   "source": [
    "num = int(input(\"enter the number?\"))\n",
    "if num%2 == 0:\n",
    " print(\"Number is even...\")\n",
    "else:\n",
    " print(\"Number is odd...\")"
   ]
  },
  {
   "cell_type": "code",
   "execution_count": 2,
   "id": "e731b2e8",
   "metadata": {},
   "outputs": [
    {
     "name": "stdout",
     "output_type": "stream",
     "text": [
      "Enter the number?5\n",
      "number is not equal to 10, 50 or 100\n"
     ]
    }
   ],
   "source": [
    "number = int(input(\"Enter the number?\"))\n",
    "if number==10:\n",
    " print(\"number is equals to 10\")\n",
    "elif number==50:\n",
    " print(\"number is equal to 50\");\n",
    "elif number==100:\n",
    " print(\"number is equal to 100\");\n",
    "else:\n",
    " print(\"number is not equal to 10, 50 or 100\"); "
   ]
  },
  {
   "cell_type": "code",
   "execution_count": 3,
   "id": "5ee4bad1",
   "metadata": {},
   "outputs": [
    {
     "name": "stdout",
     "output_type": "stream",
     "text": [
      "Enter the marks? 54\n",
      "You scored grade B ...\n"
     ]
    }
   ],
   "source": [
    "marks = int(input(\"Enter the marks? \"))\n",
    "if marks > 85 and marks <= 100:\n",
    " print(\"Congrats ! you scored grade A ...\")\n",
    "elif marks > 60 and marks <= 85:\n",
    " print(\"You scored grade B + ...\")\n",
    "elif marks > 40 and marks <= 60:\n",
    " print(\"You scored grade B ...\")\n",
    "elif (marks > 30 and marks <= 40):\n",
    " print(\"You scored grade C ...\")\n",
    "else:\n",
    " print(\"Sorry you are fail ?\") "
   ]
  },
  {
   "cell_type": "code",
   "execution_count": null,
   "id": "f4bf0b13",
   "metadata": {},
   "outputs": [],
   "source": []
  }
 ],
 "metadata": {
  "kernelspec": {
   "display_name": "Python 3",
   "language": "python",
   "name": "python3"
  },
  "language_info": {
   "codemirror_mode": {
    "name": "ipython",
    "version": 3
   },
   "file_extension": ".py",
   "mimetype": "text/x-python",
   "name": "python",
   "nbconvert_exporter": "python",
   "pygments_lexer": "ipython3",
   "version": "3.6.13"
  }
 },
 "nbformat": 4,
 "nbformat_minor": 5
}
